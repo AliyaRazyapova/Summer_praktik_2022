{
 "cells": [
  {
   "cell_type": "markdown",
   "metadata": {
    "id": "S3g4tDtrMoxX"
   },
   "source": [
    "**Задание 1.**  \n",
    "\n",
    "1. На странице в https://en.wikipedia.org/wiki/List_of_Rick_and_Morty_episodes нужно найти таблицу под названием \"Season 1 (2013–14)\". \n",
    "2. С помощью поиска по тегам, нужно сохранить из таблицы следующие колонки: 'Title', 'Directed By', 'U.S. viewers (millions)'. Каждая колонка таблицы должна быть сохранена в отдельную переменную (см. ниже названия), внутри которой лежит список, где первое значение - название колонки. \n",
    "\n",
    "Обратите внимание, положение элемента в ряде с table headers (th) и в обыкновенных рядах (теги td) может не совпадать.\n",
    "\n",
    "Например, колонки 'Title' список будет выглядеть так:  \n",
    "['Title', \"Pilot\", ...остальные значения..., \t\"Ricksy Business\"]\n",
    "\n",
    "Значения для 'U.S. viewers (millions)' на этом этапе могут содержать ссылки (например, '1.10[7]')\n",
    "\n",
    "3. Выведите эти три списка командой  \n",
    "print(titles)  \n",
    "print(directors)  \n",
    "print(viewers)"
   ]
  },
  {
   "cell_type": "code",
   "execution_count": null,
   "metadata": {
    "id": "Mhls7XwOEfg3"
   },
   "outputs": [],
   "source": []
  },
  {
   "cell_type": "markdown",
   "metadata": {
    "id": "sZFN--3fNTt2"
   },
   "source": [
    "**Задание 2.**  \n",
    "\n",
    "\n",
    "1. Из списка viewers удалите то, что в wiki было ссылками (номера в квадратных строках) и переведите значения во float.\n",
    "Правильный список viewers будет выглядеть так:  \n",
    "['U.S. viewers(millions)', 1.1 ...]\n",
    "\n",
    "2. Создайте словарь season1, в котором ключ - название эпизода, а значение - список из имени режиссера, количества зрителей (в формате float), и номера эпизода (не учитывая названия колонок в нулевом элементе). Например, пара ключ-значение для первого эпизода будет выглядеть так  \n",
    "`'\"Pilot\"': ['Justin Roiland', 1.1, 1]`\n",
    "2. Напишите функцию, которая берет аргументом название эпизода и печатает следующую строку: {номер эпизода} Episode {название эпизода} (directed by {имя режиссера} was watched by {количество зрителей} million viewers in the US.\n",
    "\n",
    "3. Запустите вашу функцию в цикле для всех эпизодов (не учитывая названия колонки в нулевом элементе).\n",
    "\n",
    "5. Сколько всего зрителей посмотрело эпизоды, которые режиссировал Stephen Sandoval?"
   ]
  }
 ],
 "metadata": {
  "colab": {
   "collapsed_sections": [],
   "name": "web_scraping_2.ipynb",
   "provenance": []
  },
  "kernelspec": {
   "display_name": "Python 3 (ipykernel)",
   "language": "python",
   "name": "python3"
  },
  "language_info": {
   "codemirror_mode": {
    "name": "ipython",
    "version": 3
   },
   "file_extension": ".py",
   "mimetype": "text/x-python",
   "name": "python",
   "nbconvert_exporter": "python",
   "pygments_lexer": "ipython3",
   "version": "3.10.5"
  }
 },
 "nbformat": 4,
 "nbformat_minor": 1
}
